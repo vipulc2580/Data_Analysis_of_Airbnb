{
 "cells": [
  {
   "cell_type": "markdown",
   "id": "8d19b459-fa41-49ff-9ffc-6dd4e5121473",
   "metadata": {},
   "source": [
    "## Loading Data Set"
   ]
  },
  {
   "cell_type": "code",
   "execution_count": 2,
   "id": "284d13ef-76c8-443a-937f-42359ae3c5f6",
   "metadata": {},
   "outputs": [
    {
     "name": "stdout",
     "output_type": "stream",
     "text": [
      "<class 'pandas.core.frame.DataFrame'>\n",
      "RangeIndex: 14456 entries, 0 to 14455\n",
      "Data columns (total 13 columns):\n",
      " #   Column        Non-Null Count  Dtype  \n",
      "---  ------        --------------  -----  \n",
      " 0   id            14456 non-null  int64  \n",
      " 1   name          14455 non-null  object \n",
      " 2   rating        14456 non-null  object \n",
      " 3   reviews       11712 non-null  object \n",
      " 4   host_name     14455 non-null  object \n",
      " 5   host_id       14017 non-null  float64\n",
      " 6   address       14429 non-null  object \n",
      " 7   features      14429 non-null  object \n",
      " 8   amenities     13467 non-null  object \n",
      " 9   safety_rules  14247 non-null  object \n",
      " 10  hourse_rules  14247 non-null  object \n",
      " 11  img_links     14429 non-null  object \n",
      " 12  price         14456 non-null  object \n",
      "dtypes: float64(1), int64(1), object(11)\n",
      "memory usage: 1.4+ MB\n"
     ]
    }
   ],
   "source": [
    "import numpy as np\n",
    "import pandas as pd\n",
    "from matplotlib import pyplot as plt\n",
    "import seaborn as yf\n",
    "\n",
    "\n",
    "\n",
    "data=pd.read_csv('./airbnb.csv')\n",
    "data.info()"
   ]
  },
  {
   "cell_type": "markdown",
   "id": "f4111757-0ce8-4572-b0df-5f52982fe3ef",
   "metadata": {},
   "source": [
    "## Removing Duplicates"
   ]
  },
  {
   "cell_type": "code",
   "execution_count": 11,
   "id": "c624aa05-2a72-4bb9-8485-6235102891da",
   "metadata": {},
   "outputs": [
    {
     "data": {
      "text/plain": [
       "np.int64(0)"
      ]
     },
     "execution_count": 11,
     "metadata": {},
     "output_type": "execute_result"
    }
   ],
   "source": [
    "data.duplicated(subset=['id']).sum()\n",
    "#732 records are duplicates \n",
    "data[data.duplicated(subset=['id'])]['address'].value_counts()\n",
    "data.drop_duplicates(subset=['id'],inplace=True)"
   ]
  },
  {
   "cell_type": "markdown",
   "id": "90ad3732-183e-4e85-b84d-a8d7a897b29c",
   "metadata": {},
   "source": [
    "# #There one record with no name and host_name we can drop it"
   ]
  },
  {
   "cell_type": "code",
   "execution_count": 14,
   "id": "9cf97ad5-c3a6-4aa5-816f-3f0a72ab8442",
   "metadata": {},
   "outputs": [
    {
     "data": {
      "text/plain": [
       "id                 0\n",
       "name               0\n",
       "rating             0\n",
       "reviews         2641\n",
       "host_name          0\n",
       "host_id          376\n",
       "address           25\n",
       "features          25\n",
       "amenities        918\n",
       "safety_rules     199\n",
       "hourse_rules     199\n",
       "img_links         25\n",
       "price              0\n",
       "dtype: int64"
      ]
     },
     "execution_count": 14,
     "metadata": {},
     "output_type": "execute_result"
    }
   ],
   "source": [
    "data.isnull().sum()\n",
    "#There one record with no name and host_name we can drop it"
   ]
  },
  {
   "cell_type": "markdown",
   "id": "2ced32a2-6bd6-45c6-824f-b417165f8e65",
   "metadata": {},
   "source": [
    "There one record with no name and host_name we can drop it"
   ]
  },
  {
   "cell_type": "code",
   "execution_count": null,
   "id": "4fc66923-b811-4040-a63b-71d9ead1fe8f",
   "metadata": {},
   "outputs": [],
   "source": [
    "# data.dropna(subset=['name'],inplace=True)\n",
    "data.isnull().sum()"
   ]
  },
  {
   "cell_type": "markdown",
   "id": "e536a5ef-87d5-4b24-ab1e-50983f9ac50a",
   "metadata": {},
   "source": [
    "# We have airbnbs with no address, and host_id we can drop them as it won't help us in our Data Analysis"
   ]
  },
  {
   "cell_type": "code",
   "execution_count": 17,
   "id": "fbcbf3b2-eabb-44d2-ac08-635eaed5836f",
   "metadata": {},
   "outputs": [
    {
     "data": {
      "text/plain": [
       "id                 0\n",
       "name               0\n",
       "rating             0\n",
       "reviews         2434\n",
       "host_name          0\n",
       "host_id            0\n",
       "address            0\n",
       "features           0\n",
       "amenities        542\n",
       "safety_rules     174\n",
       "hourse_rules     174\n",
       "img_links          0\n",
       "price              0\n",
       "dtype: int64"
      ]
     },
     "execution_count": 17,
     "metadata": {},
     "output_type": "execute_result"
    }
   ],
   "source": [
    "data.dropna(subset=['address','host_id'],inplace=True)\n",
    "data.isnull().sum()"
   ]
  },
  {
   "cell_type": "markdown",
   "id": "4eedb000-3aa8-43c4-929f-a627d9297602",
   "metadata": {},
   "source": [
    "# We know every airbnb has some basic  amenities like wifi,tv,Parking"
   ]
  },
  {
   "cell_type": "code",
   "execution_count": 19,
   "id": "74ec98fc-fe3a-47d6-a132-d9ea6f682e3a",
   "metadata": {},
   "outputs": [
    {
     "name": "stderr",
     "output_type": "stream",
     "text": [
      "C:\\Users\\vipul\\AppData\\Local\\Temp\\ipykernel_36724\\2489310843.py:1: FutureWarning: A value is trying to be set on a copy of a DataFrame or Series through chained assignment using an inplace method.\n",
      "The behavior will change in pandas 3.0. This inplace method will never work because the intermediate object on which we are setting values always behaves as a copy.\n",
      "\n",
      "For example, when doing 'df[col].method(value, inplace=True)', try using 'df.method({col: value}, inplace=True)' or df[col] = df[col].method(value) instead, to perform the operation inplace on the original object.\n",
      "\n",
      "\n",
      "  data['amenities'].fillna('Wifi,Tv,Parking',inplace=True)\n"
     ]
    },
    {
     "data": {
      "text/plain": [
       "id                 0\n",
       "name               0\n",
       "rating             0\n",
       "reviews         2434\n",
       "host_name          0\n",
       "host_id            0\n",
       "address            0\n",
       "features           0\n",
       "amenities          0\n",
       "safety_rules     174\n",
       "hourse_rules     174\n",
       "img_links          0\n",
       "price              0\n",
       "dtype: int64"
      ]
     },
     "execution_count": 19,
     "metadata": {},
     "output_type": "execute_result"
    }
   ],
   "source": [
    "data['amenities'].fillna('Wifi,Tv,Parking',inplace=True)\n",
    "data.isnull().sum()"
   ]
  },
  {
   "cell_type": "markdown",
   "id": "26b943d0-3cf2-48c8-afef-aba41a540993",
   "metadata": {},
   "source": [
    "# We can Replace null with most common safety_rules,hourse_rules "
   ]
  },
  {
   "cell_type": "code",
   "execution_count": 20,
   "id": "ae075788-7abd-48a7-8af3-c487db38291c",
   "metadata": {},
   "outputs": [
    {
     "name": "stderr",
     "output_type": "stream",
     "text": [
      "C:\\Users\\vipul\\AppData\\Local\\Temp\\ipykernel_36724\\4293043800.py:1: FutureWarning: A value is trying to be set on a copy of a DataFrame or Series through chained assignment using an inplace method.\n",
      "The behavior will change in pandas 3.0. This inplace method will never work because the intermediate object on which we are setting values always behaves as a copy.\n",
      "\n",
      "For example, when doing 'df[col].method(value, inplace=True)', try using 'df.method({col: value}, inplace=True)' or df[col] = df[col].method(value) instead, to perform the operation inplace on the original object.\n",
      "\n",
      "\n",
      "  data['hourse_rules'].fillna(data['hourse_rules'].mode()[0],inplace=True)\n",
      "C:\\Users\\vipul\\AppData\\Local\\Temp\\ipykernel_36724\\4293043800.py:2: FutureWarning: A value is trying to be set on a copy of a DataFrame or Series through chained assignment using an inplace method.\n",
      "The behavior will change in pandas 3.0. This inplace method will never work because the intermediate object on which we are setting values always behaves as a copy.\n",
      "\n",
      "For example, when doing 'df[col].method(value, inplace=True)', try using 'df.method({col: value}, inplace=True)' or df[col] = df[col].method(value) instead, to perform the operation inplace on the original object.\n",
      "\n",
      "\n",
      "  data['safety_rules'].fillna(data['safety_rules'].mode()[0],inplace=True)\n"
     ]
    },
    {
     "data": {
      "text/plain": [
       "id                 0\n",
       "name               0\n",
       "rating             0\n",
       "reviews         2434\n",
       "host_name          0\n",
       "host_id            0\n",
       "address            0\n",
       "features           0\n",
       "amenities          0\n",
       "safety_rules       0\n",
       "hourse_rules       0\n",
       "img_links          0\n",
       "price              0\n",
       "dtype: int64"
      ]
     },
     "execution_count": 20,
     "metadata": {},
     "output_type": "execute_result"
    }
   ],
   "source": [
    "data['hourse_rules'].fillna(data['hourse_rules'].mode()[0],inplace=True)\n",
    "data['safety_rules'].fillna(data['safety_rules'].mode()[0],inplace=True)\n",
    "data.isnull().sum()"
   ]
  },
  {
   "cell_type": "markdown",
   "id": "87072c8e-5f2e-406a-b9b5-e986289b153a",
   "metadata": {},
   "source": [
    "## Since there are property which are new for them we can saying the review are 0 and rest can be drop as we don't know no of people who have reviewed or not"
   ]
  },
  {
   "cell_type": "code",
   "execution_count": 26,
   "id": "edbb9a77-dec6-46bd-8424-a0c619e902cf",
   "metadata": {},
   "outputs": [
    {
     "data": {
      "text/plain": [
       "id              0\n",
       "name            0\n",
       "rating          0\n",
       "reviews         0\n",
       "host_name       0\n",
       "host_id         0\n",
       "address         0\n",
       "features        0\n",
       "amenities       0\n",
       "safety_rules    0\n",
       "hourse_rules    0\n",
       "img_links       0\n",
       "price           0\n",
       "dtype: int64"
      ]
     },
     "execution_count": 26,
     "metadata": {},
     "output_type": "execute_result"
    }
   ],
   "source": [
    "data[data['rating']=='New']['reviews'].fillna('0',inplace=True)\n",
    "data.isnull().sum()\n",
    "\n",
    "data.dropna(subset=['reviews'],inplace=True)\n",
    "data.isnull().sum()"
   ]
  },
  {
   "cell_type": "markdown",
   "id": "9c602903-126a-4d31-8291-a67c9a2232b0",
   "metadata": {},
   "source": [
    "# Column wise data Cleaning"
   ]
  },
  {
   "cell_type": "code",
   "execution_count": 27,
   "id": "361e4f02-0bfc-4a82-90b0-fe8692c7ff62",
   "metadata": {},
   "outputs": [
    {
     "name": "stdout",
     "output_type": "stream",
     "text": [
      "<class 'pandas.core.frame.DataFrame'>\n",
      "Index: 10913 entries, 0 to 14455\n",
      "Data columns (total 13 columns):\n",
      " #   Column        Non-Null Count  Dtype  \n",
      "---  ------        --------------  -----  \n",
      " 0   id            10913 non-null  int64  \n",
      " 1   name          10913 non-null  object \n",
      " 2   rating        10913 non-null  object \n",
      " 3   reviews       10913 non-null  object \n",
      " 4   host_name     10913 non-null  object \n",
      " 5   host_id       10913 non-null  float64\n",
      " 6   address       10913 non-null  object \n",
      " 7   features      10913 non-null  object \n",
      " 8   amenities     10913 non-null  object \n",
      " 9   safety_rules  10913 non-null  object \n",
      " 10  hourse_rules  10913 non-null  object \n",
      " 11  img_links     10913 non-null  object \n",
      " 12  price         10913 non-null  object \n",
      "dtypes: float64(1), int64(1), object(11)\n",
      "memory usage: 1.2+ MB\n"
     ]
    }
   ],
   "source": [
    "data.info()"
   ]
  },
  {
   "cell_type": "markdown",
   "id": "32f05de5-fd6c-43dd-95b0-7758a6007bf7",
   "metadata": {},
   "source": [
    "# Should be Numeric Type Columns : [Rating,Reviews,Price]"
   ]
  },
  {
   "cell_type": "code",
   "execution_count": 33,
   "id": "1d2666eb-3807-4956-9354-63a440a69ac5",
   "metadata": {},
   "outputs": [
    {
     "name": "stdout",
     "output_type": "stream",
     "text": [
      "<class 'pandas.core.frame.DataFrame'>\n",
      "Index: 10913 entries, 0 to 14455\n",
      "Data columns (total 13 columns):\n",
      " #   Column        Non-Null Count  Dtype  \n",
      "---  ------        --------------  -----  \n",
      " 0   id            10913 non-null  int64  \n",
      " 1   name          10913 non-null  object \n",
      " 2   rating        10913 non-null  float64\n",
      " 3   reviews       10913 non-null  object \n",
      " 4   host_name     10913 non-null  object \n",
      " 5   host_id       10913 non-null  float64\n",
      " 6   address       10913 non-null  object \n",
      " 7   features      10913 non-null  object \n",
      " 8   amenities     10913 non-null  object \n",
      " 9   safety_rules  10913 non-null  object \n",
      " 10  hourse_rules  10913 non-null  object \n",
      " 11  img_links     10913 non-null  object \n",
      " 12  price         10913 non-null  object \n",
      "dtypes: float64(2), int64(1), object(10)\n",
      "memory usage: 1.2+ MB\n"
     ]
    }
   ],
   "source": [
    "data['rating'].unique()\n",
    "Making new value has zero rating\n",
    "data['rating']=data['rating'].apply(lambda x:x.replace('New','0'))\n",
    "data['rating'].unique()\n",
    "Converting datatype to float\n",
    "data['rating']=data['rating'].astype(np.float64)\n",
    "data.info()"
   ]
  },
  {
   "cell_type": "code",
   "execution_count": 37,
   "id": "2c26e7f2-a8e3-49e7-b561-945ff3d4b347",
   "metadata": {},
   "outputs": [
    {
     "name": "stdout",
     "output_type": "stream",
     "text": [
      "<class 'pandas.core.frame.DataFrame'>\n",
      "Index: 10913 entries, 0 to 14455\n",
      "Data columns (total 13 columns):\n",
      " #   Column        Non-Null Count  Dtype  \n",
      "---  ------        --------------  -----  \n",
      " 0   id            10913 non-null  int64  \n",
      " 1   name          10913 non-null  object \n",
      " 2   rating        10913 non-null  float64\n",
      " 3   reviews       10913 non-null  float64\n",
      " 4   host_name     10913 non-null  object \n",
      " 5   host_id       10913 non-null  float64\n",
      " 6   address       10913 non-null  object \n",
      " 7   features      10913 non-null  object \n",
      " 8   amenities     10913 non-null  object \n",
      " 9   safety_rules  10913 non-null  object \n",
      " 10  hourse_rules  10913 non-null  object \n",
      " 11  img_links     10913 non-null  object \n",
      " 12  price         10913 non-null  object \n",
      "dtypes: float64(3), int64(1), object(9)\n",
      "memory usage: 1.2+ MB\n"
     ]
    }
   ],
   "source": [
    "data['reviews'].unique()\n",
    "converting the string into proper number string format\n",
    "data['reviews']=data['reviews'].apply(lambda x: x.replace(',',''))\n",
    "data['reviews'].unique()\n",
    "data['reviews']=data['reviews'].astype(np.float64)\n",
    "data.info()"
   ]
  },
  {
   "cell_type": "code",
   "execution_count": 44,
   "id": "658211fa-30db-486c-9442-a820f91ff1a3",
   "metadata": {},
   "outputs": [
    {
     "name": "stdout",
     "output_type": "stream",
     "text": [
      "<class 'pandas.core.frame.DataFrame'>\n",
      "Index: 10913 entries, 0 to 14455\n",
      "Data columns (total 13 columns):\n",
      " #   Column        Non-Null Count  Dtype  \n",
      "---  ------        --------------  -----  \n",
      " 0   id            10913 non-null  int64  \n",
      " 1   name          10913 non-null  object \n",
      " 2   rating        10913 non-null  float64\n",
      " 3   reviews       10913 non-null  float64\n",
      " 4   host_name     10913 non-null  object \n",
      " 5   host_id       10913 non-null  float64\n",
      " 6   address       10913 non-null  object \n",
      " 7   features      10913 non-null  object \n",
      " 8   amenities     10913 non-null  object \n",
      " 9   safety_rules  10913 non-null  object \n",
      " 10  hourse_rules  10913 non-null  object \n",
      " 11  img_links     10913 non-null  object \n",
      " 12  price         10913 non-null  int64  \n",
      "dtypes: float64(3), int64(2), object(8)\n",
      "memory usage: 1.2+ MB\n"
     ]
    }
   ],
   "source": [
    "extracting price and converting it to integer\n",
    "Get All digits and append them to get price \n",
    "data['price']=data['price'].apply(lambda x:int(''.join([d for d in x if d.isdigit()])))\n",
    "data['price'].unique()\n",
    "data.info()"
   ]
  },
  {
   "cell_type": "markdown",
   "id": "e0f2b242-5475-47b6-8252-480487c909c8",
   "metadata": {},
   "source": [
    "## We need Country and features and basic amenities columns for each Airbnb"
   ]
  },
  {
   "cell_type": "code",
   "execution_count": 53,
   "id": "1af28fae-5abf-4024-b4ad-97184f577a93",
   "metadata": {},
   "outputs": [],
   "source": [
    "data['address'].apply(lambda x : x.split(',')[-1]).str.strip().unique()\n",
    "we can see that for each address the last value after split is country\n",
    "data['country']=data['address'].apply(lambda x : x.split(',')[-1]).str.strip()\n",
    "data.head(10)"
   ]
  },
  {
   "cell_type": "code",
   "execution_count": 114,
   "id": "fa0fb251-2884-4807-946c-eeb51a437145",
   "metadata": {},
   "outputs": [],
   "source": [
    "def has_bed_in_record(y):\n",
    "    # print(y)\n",
    "    container={}\n",
    "    for t in y.split(','):\n",
    "        for word in t.split(' '):\n",
    "            container[word]=container.get(word,0)+1\n",
    "    # print(container)\n",
    "    return 'bed' in container or 'beds' in container\n",
    "f=data['features'].apply(has_bed_in_record)\n",
    "data[f].index\n",
    "len(data) Total number of record 10913\n",
    "\n",
    "\n",
    "\n",
    "convert every string to lower case and then perform the following operations\n",
    "check guest to number of guest allowed\n",
    "check bedroom to get number of bedroom allowed\n",
    "check for bed or beds to get number of beds allowed\n",
    "check for bathroom or toilet  when toilet then create it as 1 bathroom\n",
    "guest=[]\n",
    "bedroom=[]\n",
    "bathroom=[]\n",
    "bed=[]\n",
    "# df=data['features'][0:10]\n",
    "for row in data['features'].apply(lambda y : y.lower().split(',')):\n",
    "    a=b=c=d=None\n",
    "    a,b=row[0],row[1]\n",
    "    if(len(row)>=3): c=row[2]\n",
    "    if(len(row)>3): d=row[3]\n",
    "    # print(a,b,c,d)\n",
    "    g_add=False\n",
    "    bed_add=False\n",
    "    bath_add=False\n",
    "    bedroom_add=False\n",
    "    if('guest' in a):\n",
    "        guest.append(int(float(a.split(' ')[0])))\n",
    "        g_add=True\n",
    "    elif('bedroom' in a):\n",
    "        bedroom.append(int(float(a.split(' ')[0])))\n",
    "        bedroom_add=True\n",
    "    elif('bed' in a or 'beds' in a):\n",
    "        bed.append(int(float(a.split(' ')[0])))\n",
    "        bed_add=True\n",
    "    elif('bathroom' in a):\n",
    "        bathroom.append(int(float(a.split(' ')[0])))\n",
    "        bath_add=True\n",
    "    elif('toilet' in a):\n",
    "        bathroom.append(1)\n",
    "        bath_add=True\n",
    "\n",
    "    #check for b \n",
    "    if('guest' in b):\n",
    "        guest.append(int(float(b.split(' ')[0])))\n",
    "        g_add=True\n",
    "    elif('bedroom' in b):\n",
    "        bedroom.append(int(float(b.split(' ')[0])))\n",
    "        bedroom_add=True\n",
    "    elif('bed' in b or 'beds' in b):\n",
    "        bed.append(int(float(b.split(' ')[0])))\n",
    "        bed_add=True\n",
    "    elif('bathroom' in b):\n",
    "        bathroom.append(int(float(b.split(' ')[0])))\n",
    "        bath_add=True\n",
    "    elif('toilet' in b):\n",
    "        bathroom.append(1)\n",
    "        bath_add=True\n",
    "\n",
    "    #check for c\n",
    "    if(c):\n",
    "        if('guest' in c):\n",
    "            guest.append(int(float(c.split(' ')[0])))\n",
    "            g_add=True\n",
    "        elif('bedroom' in c):\n",
    "            bedroom.append(int(float(c.split(' ')[0])))\n",
    "            bedroom_add=True\n",
    "        elif('bed' in c or 'beds' in c):\n",
    "            bed.append(int(float(c.split(' ')[0])))\n",
    "            bed_add=True\n",
    "        elif('bathroom' in c):\n",
    "            bathroom.append(int(float(c.split(' ')[0])))\n",
    "            bath_add=True\n",
    "        elif('toilet' in c):\n",
    "            bathroom.append(1)\n",
    "            bath_add=True\n",
    "\n",
    "    #check for d\n",
    "    if(d):\n",
    "        if('guest' in d):\n",
    "            guest.append(int(float(d.split(' ')[0])))\n",
    "            g_add=True\n",
    "        elif('bedroom' in d):\n",
    "            bedroom.append(int(float(d.split(' ')[0])))\n",
    "            bedroom_add=True\n",
    "        elif('bed' in d or 'beds' in d):\n",
    "            bed.append(int(float(d.split(' ')[0])))\n",
    "            bed_add=True\n",
    "        elif('bathroom' in d):\n",
    "            bathroom.append(int(float(d.split(' ')[0])))\n",
    "            bath_add=True\n",
    "        elif('toilet' in d):\n",
    "            bathroom.append(1)\n",
    "            bath_add=True\n",
    "    if(g_add==False): guest.append(0)\n",
    "    if(bed_add==False): bed.append(0)\n",
    "    if(bath_add==False): bathroom.append(0)\n",
    "    if(bedroom_add==False): bedroom.append(0)\n",
    "# print(len(guest),len(bed),len(bedroom),len(bathroom))\n",
    "# print(bed)\n",
    "data['no_of_guest']=guest\n",
    "data['no_of_bed']=bed\n",
    "data['no_of_bedroom']=bedroom\n",
    "data['no_of_bathroom']=bathroom\n",
    "data.head(10)\n",
    "data.info()\n",
    "cleaned_airbnb=data.to_csv('./cleaned_airbnb.csv')"
   ]
  },
  {
   "cell_type": "markdown",
   "id": "0b1e5ed4-0344-4a89-a221-608d5df139d5",
   "metadata": {},
   "source": [
    "## Extracted Check_in and Check_out Time to get Additional information of timings based location"
   ]
  },
  {
   "cell_type": "code",
   "execution_count": 21,
   "id": "ba6461c3-1051-40e7-ad49-1322e0f49889",
   "metadata": {},
   "outputs": [],
   "source": [
    "data['amenities'].apply(lambda y :y.split(',')).explode().unique()\n",
    "data.head(10)\n",
    "data=pd.read_csv('./cleaned_airbnb.csv')\n",
    "data.head()\n",
    "check_in=[]\n",
    "check_out=[]\n",
    "df=data['hourse_rules'][:10]\n",
    "for i  in data['hourse_rules'].apply(lambda y:y.lower().strip().split(',')):\n",
    "    check_in_add=False\n",
    "    check_out_add=False\n",
    "    for j in i:\n",
    "        # print(j)\n",
    "        if(not check_in_add and 'check-in' in j):\n",
    "            check_in_add=True\n",
    "            check_in.append(j.split('check-in')[1])\n",
    "        if('check out' in j):\n",
    "            check_out.append(j.split('check out:')[1])\n",
    "            check_out_add=True\n",
    "    if(not check_in_add): check_in.append('0:00 AM - 24:00 PM')\n",
    "    if(not check_out_add): check_out.append('0:00 AM - 24:00 PM')\n",
    "data['hourse_rules']\n",
    "# print(len(check_in),len(check_out))\n",
    "check_in=list(map(lambda y:y[1:].strip(),check_in))\n",
    "check_out=list(map(lambda y:y[2:] ,check_out))\n",
    "\n",
    "print(len(check_out),len(check_in))\n",
    "data.head(10)\n",
    "print(check_out)\n",
    "data['check_in_time']=check_in\n",
    "data['check_out_time']=check_out\n",
    "data.head()\n",
    "data.info()"
   ]
  },
  {
   "cell_type": "markdown",
   "id": "349bce3b-cfe9-4939-913a-34a9a0282e1a",
   "metadata": {},
   "source": [
    "## Extracted Feature for Basic Amenities"
   ]
  },
  {
   "cell_type": "code",
   "execution_count": 31,
   "id": "3fd7e7aa-f8f6-44f7-ad91-b21ea077e46c",
   "metadata": {},
   "outputs": [],
   "source": [
    "data=pd.read_csv('./cleaned_airbnb.csv)\n",
    "data.head()\n",
    "data.head(10)\n",
    "data.info()\n",
    "has_wifi=[False]*10913\n",
    "has_tv=[False]*10913\n",
    "has_view=[False]*10913\n",
    "ind=0\n",
    "for row in data['amenities'].apply(lambda y:y.lower().split(',')):\n",
    "    for entry in row:\n",
    "        if('wifi' in entry):\n",
    "            has_wifi[ind]=True\n",
    "        if('tv' in entry):\n",
    "            has_tv[ind]=True\n",
    "        if('view' in entry):\n",
    "            has_view[ind]=True\n",
    "    ind+=1\n",
    "# print(has_view)\n",
    "data['has_view']=has_view\n",
    "data['has_tv']=has_tv\n",
    "data['has_wifi']=has_wifi\n",
    "data.head()"
   ]
  },
  {
   "cell_type": "markdown",
   "id": "69b8f681-ece2-4c2b-9e58-a38144a40e98",
   "metadata": {},
   "source": [
    "## Data Analysis for Airbnb Data"
   ]
  },
  {
   "cell_type": "code",
   "execution_count": 40,
   "id": "ab2eef0a-d1db-4274-9b28-c2847fa63c4a",
   "metadata": {},
   "outputs": [
    {
     "data": {
      "text/html": [
       "<div>\n",
       "<style scoped>\n",
       "    .dataframe tbody tr th:only-of-type {\n",
       "        vertical-align: middle;\n",
       "    }\n",
       "\n",
       "    .dataframe tbody tr th {\n",
       "        vertical-align: top;\n",
       "    }\n",
       "\n",
       "    .dataframe thead th {\n",
       "        text-align: right;\n",
       "    }\n",
       "</style>\n",
       "<table border=\"1\" class=\"dataframe\">\n",
       "  <thead>\n",
       "    <tr style=\"text-align: right;\">\n",
       "      <th></th>\n",
       "      <th>name</th>\n",
       "    </tr>\n",
       "  </thead>\n",
       "  <tbody>\n",
       "    <tr>\n",
       "      <th>0</th>\n",
       "      <td>Perla bungalov</td>\n",
       "    </tr>\n",
       "    <tr>\n",
       "      <th>9608</th>\n",
       "      <td>Hanok Stay, Sister House Mordern style Han-ok</td>\n",
       "    </tr>\n",
       "    <tr>\n",
       "      <th>9623</th>\n",
       "      <td>Butterfly Villa</td>\n",
       "    </tr>\n",
       "    <tr>\n",
       "      <th>4351</th>\n",
       "      <td>La Belle Blanche, Yurt in Cévennes</td>\n",
       "    </tr>\n",
       "    <tr>\n",
       "      <th>1377</th>\n",
       "      <td>Geodome Private peaceful Getaway near Lake Travis</td>\n",
       "    </tr>\n",
       "    <tr>\n",
       "      <th>...</th>\n",
       "      <td>...</td>\n",
       "    </tr>\n",
       "    <tr>\n",
       "      <th>156</th>\n",
       "      <td>Cabana Triangle House Parang</td>\n",
       "    </tr>\n",
       "    <tr>\n",
       "      <th>24</th>\n",
       "      <td>Sapanca Yura Bungalov-1 Havuzlu, Korunaklı,</td>\n",
       "    </tr>\n",
       "    <tr>\n",
       "      <th>10194</th>\n",
       "      <td>Riverside Mansion+lawn  Moet's Waterfront Estate</td>\n",
       "    </tr>\n",
       "    <tr>\n",
       "      <th>6181</th>\n",
       "      <td>Eolia Gold Villa with Private Heated Pool</td>\n",
       "    </tr>\n",
       "    <tr>\n",
       "      <th>9</th>\n",
       "      <td>Villa Tuba</td>\n",
       "    </tr>\n",
       "  </tbody>\n",
       "</table>\n",
       "<p>4733 rows × 1 columns</p>\n",
       "</div>"
      ],
      "text/plain": [
       "                                                    name\n",
       "0                                         Perla bungalov\n",
       "9608       Hanok Stay, Sister House Mordern style Han-ok\n",
       "9623                                     Butterfly Villa\n",
       "4351                  La Belle Blanche, Yurt in Cévennes\n",
       "1377   Geodome Private peaceful Getaway near Lake Travis\n",
       "...                                                  ...\n",
       "156                         Cabana Triangle House Parang\n",
       "24           Sapanca Yura Bungalov-1 Havuzlu, Korunaklı,\n",
       "10194   Riverside Mansion+lawn  Moet's Waterfront Estate\n",
       "6181           Eolia Gold Villa with Private Heated Pool\n",
       "9                                             Villa Tuba\n",
       "\n",
       "[4733 rows x 1 columns]"
      ]
     },
     "execution_count": 40,
     "metadata": {},
     "output_type": "execute_result"
    }
   ],
   "source": [
    "Top 10 hosts with highest number of reviews\n",
    "data=pd.read_csv('./cleaned_airbnb.csv')\n",
    "df=data.sort_values(by=['reviews'],ascending=False)\n",
    "df.loc[0:9,['name']]"
   ]
  },
  {
   "cell_type": "markdown",
   "id": "b0c70212-e2fc-4f6a-a1f6-7eaf20ce4195",
   "metadata": {},
   "source": [
    "### 1.Total number of Airbnb in each Country"
   ]
  },
  {
   "cell_type": "code",
   "execution_count": 42,
   "id": "5185e5aa-756d-4709-8910-c036888b738d",
   "metadata": {},
   "outputs": [
    {
     "data": {
      "text/plain": [
       "country\n",
       "India         2096\n",
       "Italy          983\n",
       "Greece         866\n",
       "Thailand       540\n",
       "France         451\n",
       "              ... \n",
       "Argentina        1\n",
       "Jamaica          1\n",
       "Guatemala        1\n",
       "Senegal          1\n",
       "Bangladesh       1\n",
       "Name: count, Length: 114, dtype: int64"
      ]
     },
     "execution_count": 42,
     "metadata": {},
     "output_type": "execute_result"
    }
   ],
   "source": [
    "data['country'].value_counts()"
   ]
  },
  {
   "cell_type": "markdown",
   "id": "94875c65-d7c2-47ed-857d-7da93714c74e",
   "metadata": {},
   "source": [
    "### Average Rating of properties based on Country"
   ]
  },
  {
   "cell_type": "code",
   "execution_count": 50,
   "id": "c995f967-d4d4-4f0e-8429-77d06e3ee677",
   "metadata": {},
   "outputs": [
    {
     "data": {
      "text/html": [
       "<div>\n",
       "<style scoped>\n",
       "    .dataframe tbody tr th:only-of-type {\n",
       "        vertical-align: middle;\n",
       "    }\n",
       "\n",
       "    .dataframe tbody tr th {\n",
       "        vertical-align: top;\n",
       "    }\n",
       "\n",
       "    .dataframe thead th {\n",
       "        text-align: right;\n",
       "    }\n",
       "</style>\n",
       "<table border=\"1\" class=\"dataframe\">\n",
       "  <thead>\n",
       "    <tr style=\"text-align: right;\">\n",
       "      <th></th>\n",
       "      <th>mean</th>\n",
       "    </tr>\n",
       "    <tr>\n",
       "      <th>country</th>\n",
       "      <th></th>\n",
       "    </tr>\n",
       "  </thead>\n",
       "  <tbody>\n",
       "    <tr>\n",
       "      <th>Honduras</th>\n",
       "      <td>5.000000</td>\n",
       "    </tr>\n",
       "    <tr>\n",
       "      <th>Myanmar</th>\n",
       "      <td>5.000000</td>\n",
       "    </tr>\n",
       "    <tr>\n",
       "      <th>Tunisia</th>\n",
       "      <td>5.000000</td>\n",
       "    </tr>\n",
       "    <tr>\n",
       "      <th>Argentina</th>\n",
       "      <td>4.980000</td>\n",
       "    </tr>\n",
       "    <tr>\n",
       "      <th>Ireland</th>\n",
       "      <td>4.953333</td>\n",
       "    </tr>\n",
       "    <tr>\n",
       "      <th>Liechtenstein</th>\n",
       "      <td>4.950000</td>\n",
       "    </tr>\n",
       "    <tr>\n",
       "      <th>New Zealand</th>\n",
       "      <td>4.937143</td>\n",
       "    </tr>\n",
       "    <tr>\n",
       "      <th>Namibia</th>\n",
       "      <td>4.936667</td>\n",
       "    </tr>\n",
       "    <tr>\n",
       "      <th>Åland Islands</th>\n",
       "      <td>4.930000</td>\n",
       "    </tr>\n",
       "    <tr>\n",
       "      <th>Isle of Man</th>\n",
       "      <td>4.930000</td>\n",
       "    </tr>\n",
       "  </tbody>\n",
       "</table>\n",
       "</div>"
      ],
      "text/plain": [
       "                   mean\n",
       "country                \n",
       "Honduras       5.000000\n",
       "Myanmar        5.000000\n",
       "Tunisia        5.000000\n",
       "Argentina      4.980000\n",
       "Ireland        4.953333\n",
       "Liechtenstein  4.950000\n",
       "New Zealand    4.937143\n",
       "Namibia        4.936667\n",
       "Åland Islands  4.930000\n",
       "Isle of Man    4.930000"
      ]
     },
     "execution_count": 50,
     "metadata": {},
     "output_type": "execute_result"
    }
   ],
   "source": [
    "data.groupby(by=['country'])['rating'].agg(['mean']).sort_values(by='mean',ascending=False)"
   ]
  },
  {
   "cell_type": "markdown",
   "id": "3b5cd34c-a340-41fd-b450-22611ba20a2e",
   "metadata": {},
   "source": [
    "### Total Listings which has basic amenities"
   ]
  },
  {
   "cell_type": "code",
   "execution_count": 53,
   "id": "3aa29f7b-9fc9-4c80-8fb8-b3720d0a4e01",
   "metadata": {},
   "outputs": [
    {
     "data": {
      "text/plain": [
       "np.float64(82.30550719325575)"
      ]
     },
     "execution_count": 53,
     "metadata": {},
     "output_type": "execute_result"
    }
   ],
   "source": [
    "(data['has_wifi'].sum()/len(data))*100 \n",
    "#82% of overall Properties have basic wifi amenitiy"
   ]
  },
  {
   "cell_type": "code",
   "execution_count": 111,
   "id": "a8761f0b-098f-479c-8229-d58a518b931f",
   "metadata": {},
   "outputs": [],
   "source": [
    "#Different kind of amenities provided by properities\n",
    "data['amenities'].apply(lambda y:y.lower().split(',')).explode().str.strip().unique()"
   ]
  },
  {
   "cell_type": "markdown",
   "id": "8d434b4c-0f6a-435c-b536-b7a8b7dcdf1b",
   "metadata": {},
   "source": [
    "### Number of Airbnb with flexible check in time"
   ]
  },
  {
   "cell_type": "code",
   "execution_count": 59,
   "id": "e94ff966-165d-4569-b375-cddb6120afcc",
   "metadata": {},
   "outputs": [
    {
     "data": {
      "text/plain": [
       "np.int64(766)"
      ]
     },
     "execution_count": 59,
     "metadata": {},
     "output_type": "execute_result"
    }
   ],
   "source": [
    "(data['check_in_time']=='flexible').sum()\n",
    "#There are Total 766 Airbnb with Flexible check in time"
   ]
  },
  {
   "cell_type": "markdown",
   "id": "bc7a51ca-25e6-4a4c-8d0d-7347690c5e93",
   "metadata": {},
   "source": [
    "### Top 5 country with highest price of property currency format for each property is converted to same type inr "
   ]
  },
  {
   "cell_type": "code",
   "execution_count": 64,
   "id": "0d5467df-0c26-4912-b53a-6102c501c74e",
   "metadata": {},
   "outputs": [
    {
     "data": {
      "text/html": [
       "<div>\n",
       "<style scoped>\n",
       "    .dataframe tbody tr th:only-of-type {\n",
       "        vertical-align: middle;\n",
       "    }\n",
       "\n",
       "    .dataframe tbody tr th {\n",
       "        vertical-align: top;\n",
       "    }\n",
       "\n",
       "    .dataframe thead th {\n",
       "        text-align: right;\n",
       "    }\n",
       "</style>\n",
       "<table border=\"1\" class=\"dataframe\">\n",
       "  <thead>\n",
       "    <tr style=\"text-align: right;\">\n",
       "      <th></th>\n",
       "      <th>mean</th>\n",
       "    </tr>\n",
       "    <tr>\n",
       "      <th>country</th>\n",
       "      <th></th>\n",
       "    </tr>\n",
       "  </thead>\n",
       "  <tbody>\n",
       "    <tr>\n",
       "      <th>Honduras</th>\n",
       "      <td>273093.000000</td>\n",
       "    </tr>\n",
       "    <tr>\n",
       "      <th>Bahamas</th>\n",
       "      <td>116397.500000</td>\n",
       "    </tr>\n",
       "    <tr>\n",
       "      <th>Belize</th>\n",
       "      <td>85589.444444</td>\n",
       "    </tr>\n",
       "    <tr>\n",
       "      <th>Colombia</th>\n",
       "      <td>85440.416667</td>\n",
       "    </tr>\n",
       "    <tr>\n",
       "      <th>Maldives</th>\n",
       "      <td>64392.846154</td>\n",
       "    </tr>\n",
       "  </tbody>\n",
       "</table>\n",
       "</div>"
      ],
      "text/plain": [
       "                   mean\n",
       "country                \n",
       "Honduras  273093.000000\n",
       "Bahamas   116397.500000\n",
       "Belize     85589.444444\n",
       "Colombia   85440.416667\n",
       "Maldives   64392.846154"
      ]
     },
     "execution_count": 64,
     "metadata": {},
     "output_type": "execute_result"
    }
   ],
   "source": [
    "data.groupby(by=['country'])['price'].agg(['mean']).sort_values(by='mean',ascending=False).head(5)"
   ]
  },
  {
   "cell_type": "markdown",
   "id": "a7e47eb2-71d0-4e81-a49d-71604196ff17",
   "metadata": {},
   "source": [
    "### Finding co-relation between rating and reviews feature"
   ]
  },
  {
   "cell_type": "code",
   "execution_count": 146,
   "id": "4465954e-b66b-41b2-baca-91d052900725",
   "metadata": {},
   "outputs": [
    {
     "name": "stdout",
     "output_type": "stream",
     "text": [
      "Pearson Correlation between rating and reviews: 0.28249324651765967\n"
     ]
    }
   ],
   "source": [
    "\n",
    "# import numpy as np\n",
    "# def Pearson_correlation(X,Y):\n",
    "#     if len(X)==len(Y):\n",
    "#         Sum_xy = sum((X-X.mean())*(Y-Y.mean()))\n",
    "#         Sum_x_squared = sum((X-X.mean())**2)\n",
    "#         Sum_y_squared = sum((Y-Y.mean())**2)       \n",
    "#         corr = Sum_xy / np.sqrt(Sum_x_squared * Sum_y_squared)\n",
    "#     return corr\n",
    "# print(Pearson_correlation(np.array(data['rating']),np.array(data['reviews'])))\n",
    "\n",
    "from scipy.stats import pearsonr\n",
    "corr, _ = pearsonr(data['rating'], data['reviews'])\n",
    "print(f\"Pearson Correlation between rating and reviews: {corr}\")"
   ]
  },
  {
   "cell_type": "markdown",
   "id": "1982701f-ebc3-46d3-8f5c-7d223b704180",
   "metadata": {},
   "source": [
    "### Count of Airbnb having views"
   ]
  },
  {
   "cell_type": "code",
   "execution_count": 66,
   "id": "37268222-8770-42be-b7ae-84893332f4a9",
   "metadata": {},
   "outputs": [
    {
     "data": {
      "text/plain": [
       "np.int64(4045)"
      ]
     },
     "execution_count": 66,
     "metadata": {},
     "output_type": "execute_result"
    }
   ],
   "source": [
    "data['has_view'].sum()\n",
    "#There are total 4045 Airbnb having view"
   ]
  },
  {
   "cell_type": "markdown",
   "id": "e8c00eac-42c4-47c7-9851-a8f640ceb77d",
   "metadata": {},
   "source": [
    "### Average number of guests accomdation based on each country"
   ]
  },
  {
   "cell_type": "code",
   "execution_count": 70,
   "id": "4b8c18a1-5902-4319-8d61-a144019f5b49",
   "metadata": {},
   "outputs": [
    {
     "data": {
      "text/html": [
       "<div>\n",
       "<style scoped>\n",
       "    .dataframe tbody tr th:only-of-type {\n",
       "        vertical-align: middle;\n",
       "    }\n",
       "\n",
       "    .dataframe tbody tr th {\n",
       "        vertical-align: top;\n",
       "    }\n",
       "\n",
       "    .dataframe thead th {\n",
       "        text-align: right;\n",
       "    }\n",
       "</style>\n",
       "<table border=\"1\" class=\"dataframe\">\n",
       "  <thead>\n",
       "    <tr style=\"text-align: right;\">\n",
       "      <th></th>\n",
       "      <th>mean</th>\n",
       "    </tr>\n",
       "    <tr>\n",
       "      <th>country</th>\n",
       "      <th></th>\n",
       "    </tr>\n",
       "  </thead>\n",
       "  <tbody>\n",
       "    <tr>\n",
       "      <th>Albania</th>\n",
       "      <td>6.750000</td>\n",
       "    </tr>\n",
       "    <tr>\n",
       "      <th>Argentina</th>\n",
       "      <td>4.000000</td>\n",
       "    </tr>\n",
       "    <tr>\n",
       "      <th>Armenia</th>\n",
       "      <td>3.600000</td>\n",
       "    </tr>\n",
       "    <tr>\n",
       "      <th>Australia</th>\n",
       "      <td>4.038462</td>\n",
       "    </tr>\n",
       "    <tr>\n",
       "      <th>Austria</th>\n",
       "      <td>5.047619</td>\n",
       "    </tr>\n",
       "    <tr>\n",
       "      <th>...</th>\n",
       "      <td>...</td>\n",
       "    </tr>\n",
       "    <tr>\n",
       "      <th>Uruguay</th>\n",
       "      <td>7.000000</td>\n",
       "    </tr>\n",
       "    <tr>\n",
       "      <th>Uzbekistan</th>\n",
       "      <td>9.500000</td>\n",
       "    </tr>\n",
       "    <tr>\n",
       "      <th>Vanuatu</th>\n",
       "      <td>4.000000</td>\n",
       "    </tr>\n",
       "    <tr>\n",
       "      <th>Vietnam</th>\n",
       "      <td>3.793651</td>\n",
       "    </tr>\n",
       "    <tr>\n",
       "      <th>Åland Islands</th>\n",
       "      <td>2.000000</td>\n",
       "    </tr>\n",
       "  </tbody>\n",
       "</table>\n",
       "<p>114 rows × 1 columns</p>\n",
       "</div>"
      ],
      "text/plain": [
       "                   mean\n",
       "country                \n",
       "Albania        6.750000\n",
       "Argentina      4.000000\n",
       "Armenia        3.600000\n",
       "Australia      4.038462\n",
       "Austria        5.047619\n",
       "...                 ...\n",
       "Uruguay        7.000000\n",
       "Uzbekistan     9.500000\n",
       "Vanuatu        4.000000\n",
       "Vietnam        3.793651\n",
       "Åland Islands  2.000000\n",
       "\n",
       "[114 rows x 1 columns]"
      ]
     },
     "execution_count": 70,
     "metadata": {},
     "output_type": "execute_result"
    }
   ],
   "source": [
    "data.groupby(by=['country'])['no_of_guest'].agg(['mean'])"
   ]
  },
  {
   "cell_type": "markdown",
   "id": "115e8a46-11ca-4623-9cd5-d91529c3e2e2",
   "metadata": {},
   "source": [
    "### Airbnb Property Type Distribution"
   ]
  },
  {
   "cell_type": "code",
   "execution_count": 81,
   "id": "ae12602b-7de9-46dd-8024-7edc831ff8e3",
   "metadata": {},
   "outputs": [
    {
     "data": {
      "image/png": "[encoded data removed]",
      "text/plain": [
       "<Figure size 640x480 with 1 Axes>"
      ]
     },
     "metadata": {},
     "output_type": "display_data"
    }
   ],
   "source": [
    "# 1–2 Guests: Studio or Apartment\n",
    "# 3–4 Guests: Cabin or Bungalow\n",
    "# 5–8 Guests: Villa or Cottage\n",
    "# 9+ Guests: Mansion or Large House\n",
    "from matplotlib import pyplot as plt\n",
    "def type_of_property(n):\n",
    "    if(n<=2): return 'Apartment'\n",
    "    elif(n>=3 and n<=4): return 'Bungalow'\n",
    "    elif(n>=5 and n<=8): return 'Villa'\n",
    "    else: return 'Mansion'\n",
    "propertyType=data['no_of_guest'].apply(type_of_property).value_counts().index\n",
    "count_of_property=data['no_of_guest'].apply(type_of_property).value_counts().values\n",
    "# print(propertyType,count_of_property)\n",
    "plt.bar(propertyType,count_of_property,label='PropertyCount')\n",
    "plt.title('Count of Various Type of Airbnb')\n",
    "plt.ylabel('Number of Airbnb')\n",
    "plt.legend()\n",
    "plt.show()"
   ]
  },
  {
   "cell_type": "markdown",
   "id": "77bd0e14-3ddc-47cb-b336-95b352f83085",
   "metadata": {},
   "source": [
    "### Average price distribution based on country"
   ]
  },
  {
   "cell_type": "code",
   "execution_count": 86,
   "id": "6213aaa9-9cb0-48b1-9b44-974fc5dbb69a",
   "metadata": {},
   "outputs": [
    {
     "data": {
      "image/png": "[encoded data removed]",
      "text/plain": [
       "<Figure size 640x480 with 1 Axes>"
      ]
     },
     "metadata": {},
     "output_type": "display_data"
    }
   ],
   "source": [
    "d=data.groupby(by='country')['price'].agg(['mean'])\n",
    "plt.boxplot(d)\n",
    "plt.show()"
   ]
  },
  {
   "cell_type": "code",
   "execution_count": 97,
   "id": "0cbfbc55-072c-497a-8e4a-4af625f503b9",
   "metadata": {},
   "outputs": [
    {
     "data": {
      "text/plain": [
       "7408         Greece\n",
       "61         Thailand\n",
       "60          Vietnam\n",
       "6195         Greece\n",
       "46            India\n",
       "48           Turkey\n",
       "33           Turkey\n",
       "63      Philippines\n",
       "49           Turkey\n",
       "52      Philippines\n",
       "Name: country, dtype: object"
      ]
     },
     "execution_count": 97,
     "metadata": {},
     "output_type": "execute_result"
    }
   ],
   "source": [
    "d=data.sort_values(by=['rating'],ascending=False)\n",
    "d['country'].head(10)"
   ]
  },
  {
   "cell_type": "markdown",
   "id": "3466726c-4267-449c-84eb-e2368f008e88",
   "metadata": {},
   "source": [
    "### Top 10 famous amenities and their distribution across properties"
   ]
  },
  {
   "cell_type": "code",
   "execution_count": 103,
   "id": "ef0b2300-5688-4483-a17c-e6fa9e897796",
   "metadata": {},
   "outputs": [
    {
     "data": {
      "image/png": "[encoded data removed]",
      "text/plain": [
       "<Figure size 640x480 with 1 Axes>"
      ]
     },
     "metadata": {},
     "output_type": "display_data"
    }
   ],
   "source": [
    "amenities_types=data['amenities'].apply(lambda y:y.lower().split(',')).explode().value_counts().head(10).index\n",
    "values=data['amenities'].apply(lambda y:y.lower().split(',')).explode().value_counts().head(10).values\n",
    "plt.pie(values,labels=amenities_types,autopct='%1.1f%%')\n",
    "plt.title('Top 10 amenities over all Airbnbs')\n",
    "plt.show()"
   ]
  },
  {
   "cell_type": "markdown",
   "id": "0ff37cd4-59fd-4203-8762-7dff638c8db3",
   "metadata": {},
   "source": [
    "### Finding relationship between number of beds and price of property"
   ]
  },
  {
   "cell_type": "code",
   "execution_count": 110,
   "id": "7f3cb75d-2ce0-4bd3-a53d-e65247cbe86f",
   "metadata": {},
   "outputs": [
    {
     "data": {
      "image/png": "[encoded data removed]",
      "text/plain": [
       "<Figure size 640x480 with 2 Axes>"
      ]
     },
     "metadata": {},
     "output_type": "display_data"
    }
   ],
   "source": [
    "ratio=data['price']/data['no_of_bed']\n",
    "plt.scatter(data['no_of_bed'],data['price'],edgecolors='black',linewidths=1,cmap='GnBu',c=ratio)\n",
    "cbar=plt.colorbar()\n",
    "cbar.label='price/no of bed ratio'\n",
    "plt.title('Co-realtion of Price of Airbnb and no of bed')\n",
    "plt.show()\n",
    "# data.info()"
   ]
  },
  {
   "cell_type": "code",
   "execution_count": 114,
   "id": "3cdd2e25-0778-4ed2-8849-3a70d1a61e6c",
   "metadata": {},
   "outputs": [
    {
     "name": "stdout",
     "output_type": "stream",
     "text": [
      "100.0\n"
     ]
    }
   ],
   "source": [
    "count_of_property_covidguideline=0\n",
    "for row in data['safety_rules'].apply(lambda y:y.lower().split()):\n",
    "    for entry in row:\n",
    "        if('covid' in entry):\n",
    "            count_of_property_covidguideline+=1\n",
    "            break\n",
    "print((count_of_property_covidguideline/len(data))*100)\n",
    "Every Property Host wants their guest to follow covid-19 guidelines"
   ]
  },
  {
   "cell_type": "markdown",
   "id": "003a9300-c103-408d-812e-918e9afc5533",
   "metadata": {},
   "source": [
    "### HeatMap for numerical Distribution of features like price,review,ration"
   ]
  },
  {
   "cell_type": "code",
   "execution_count": 123,
   "id": "e98013c7-8227-45fa-b9e0-272a4cd3519e",
   "metadata": {},
   "outputs": [
    {
     "data": {
      "text/plain": [
       "<Axes: >"
      ]
     },
     "execution_count": 123,
     "metadata": {},
     "output_type": "execute_result"
    },
    {
     "data": {
      "image/png": "[encoded data removed]",
      "text/plain": [
       "<Figure size 640x480 with 2 Axes>"
      ]
     },
     "metadata": {},
     "output_type": "display_data"
    }
   ],
   "source": [
    "import seaborn as yf\n",
    "yf.heatmap(data.loc[::,['price','reviews','rating']],cmap='GnBu')\n",
    "# plt.show()\n",
    "# data.loc[::,['price','reviews','rating']]"
   ]
  },
  {
   "cell_type": "markdown",
   "id": "f839c56e-e0a9-4006-95cf-fb1895dd2ac3",
   "metadata": {},
   "source": [
    "### Top 5 Properties with highest price to rating ratio"
   ]
  },
  {
   "cell_type": "code",
   "execution_count": 134,
   "id": "71113d80-b215-4714-ae01-69377f175587",
   "metadata": {},
   "outputs": [
    {
     "data": {
      "text/html": [
       "<div>\n",
       "<style scoped>\n",
       "    .dataframe tbody tr th:only-of-type {\n",
       "        vertical-align: middle;\n",
       "    }\n",
       "\n",
       "    .dataframe tbody tr th {\n",
       "        vertical-align: top;\n",
       "    }\n",
       "\n",
       "    .dataframe thead th {\n",
       "        text-align: right;\n",
       "    }\n",
       "</style>\n",
       "<table border=\"1\" class=\"dataframe\">\n",
       "  <thead>\n",
       "    <tr style=\"text-align: right;\">\n",
       "      <th></th>\n",
       "      <th>name</th>\n",
       "    </tr>\n",
       "  </thead>\n",
       "  <tbody>\n",
       "    <tr>\n",
       "      <th>4250</th>\n",
       "      <td>Romantic hideaway in the middle of the Mols Mo...</td>\n",
       "    </tr>\n",
       "    <tr>\n",
       "      <th>9427</th>\n",
       "      <td>NEW: LUXURY CHALET MERIBEL, 16 people</td>\n",
       "    </tr>\n",
       "    <tr>\n",
       "      <th>4093</th>\n",
       "      <td>Sky Floor- Two bedroom Burj Khalifa View</td>\n",
       "    </tr>\n",
       "    <tr>\n",
       "      <th>9332</th>\n",
       "      <td>Kaggeholm Castle - Rent your own castle</td>\n",
       "    </tr>\n",
       "    <tr>\n",
       "      <th>9345</th>\n",
       "      <td>Sea View,Pool, Padel Tennis, Tavern, Heli Pad</td>\n",
       "    </tr>\n",
       "  </tbody>\n",
       "</table>\n",
       "</div>"
      ],
      "text/plain": [
       "                                                   name\n",
       "4250  Romantic hideaway in the middle of the Mols Mo...\n",
       "9427              NEW: LUXURY CHALET MERIBEL, 16 people\n",
       "4093           Sky Floor- Two bedroom Burj Khalifa View\n",
       "9332            Kaggeholm Castle - Rent your own castle\n",
       "9345      Sea View,Pool, Padel Tennis, Tavern, Heli Pad"
      ]
     },
     "execution_count": 134,
     "metadata": {},
     "output_type": "execute_result"
    }
   ],
   "source": [
    "df=data[data['rating']!=0.0]\n",
    "index=(df['price']/df['rating']).sort_values(ascending=False).head(5).index\n",
    "df.loc[index,['name']]"
   ]
  },
  {
   "cell_type": "markdown",
   "id": "719c20f2-e07d-4fdc-b52b-1375764296d6",
   "metadata": {},
   "source": [
    "### Distribution of Reviews for all Airbnb"
   ]
  },
  {
   "cell_type": "code",
   "execution_count": 139,
   "id": "c1d13383-9642-4314-ad2f-854b3818b870",
   "metadata": {},
   "outputs": [
    {
     "data": {
      "image/png": "[encoded data removed]",
      "text/plain": [
       "<Figure size 640x480 with 1 Axes>"
      ]
     },
     "metadata": {},
     "output_type": "display_data"
    }
   ],
   "source": [
    "#There are more air bnb with 0 review and Further communication can be done with property host regarding ad and so on\n",
    "# data['reviews']\n",
    "plt.hist(data['reviews'],bins=[0,10,20,30,40,50,60,70],label='No of Reviews Distribution')\n",
    "plt.legend()\n",
    "plt.title('Distribution of Reviews for all Airbnb')\n",
    "plt.show()"
   ]
  },
  {
   "cell_type": "code",
   "execution_count": 145,
   "id": "86738fe8-b56e-4263-8389-b27eb55129b5",
   "metadata": {},
   "outputs": [
    {
     "data": {
      "text/plain": [
       "price        10458.401346\n",
       "no_of_bed        2.921284\n",
       "dtype: float64"
      ]
     },
     "execution_count": 145,
     "metadata": {},
     "output_type": "execute_result"
    }
   ],
   "source": [
    "average price and no of beds for properties with wifi and without wifi\n",
    "data[data['has_wifi']==True].loc[:,['price','no_of_bed']].mean\n",
    "price        15079.531062\n",
    "no_of_bed        3.127032\n",
    "data[data['has_wifi']!=True].loc[:,['price','no_of_bed']].mean()\n",
    "price        10458.401346\n",
    "no_of_bed        2.921284"
   ]
  },
  {
   "cell_type": "code",
   "execution_count": null,
   "id": "9c1f3a13-985b-4ac5-99ed-6fac6bd12c4b",
   "metadata": {},
   "outputs": [],
   "source": []
  }
 ],
 "metadata": {
  "kernelspec": {
   "display_name": "Python 3 (ipykernel)",
   "language": "python",
   "name": "python3"
  },
  "language_info": {
   "codemirror_mode": {
    "name": "ipython",
    "version": 3
   },
   "file_extension": ".py",
   "mimetype": "text/x-python",
   "name": "python",
   "nbconvert_exporter": "python",
   "pygments_lexer": "ipython3",
   "version": "3.11.9"
  }
 },
 "nbformat": 4,
 "nbformat_minor": 5
}
